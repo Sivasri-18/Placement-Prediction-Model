{
 "cells": [
  {
   "cell_type": "markdown",
   "id": "f25e189a",
   "metadata": {},
   "source": [
    "# PLACEMENT PREDICTION MODEL"
   ]
  },
  {
   "cell_type": "markdown",
   "id": "2ad1f2f5",
   "metadata": {},
   "source": [
    "IMPORTING LIBRARIES"
   ]
  },
  {
   "cell_type": "code",
   "execution_count": 1,
   "id": "30ee92a4",
   "metadata": {},
   "outputs": [],
   "source": [
    "import pandas as pd\n",
    "import re\n",
    "import numpy as np\n",
    "import matplotlib.pyplot as plt "
   ]
  },
  {
   "cell_type": "markdown",
   "id": "fb4ae0c0",
   "metadata": {},
   "source": [
    "IMPORTING DATAFRAME"
   ]
  },
  {
   "cell_type": "code",
   "execution_count": 2,
   "id": "7fab518f",
   "metadata": {},
   "outputs": [],
   "source": [
    "#CREATING DATAFRAME\n",
    "df=pd.DataFrame(pd.read_excel(r\"C:\\Users\\SIVASRI\\Documents\\PP MODEL\\placementModel.xlsx\"))\n",
    "#FILLING NULL VALUES\n",
    "df.fillna(0,inplace=True)"
   ]
  },
  {
   "cell_type": "markdown",
   "id": "02ee13e9",
   "metadata": {},
   "source": [
    "PRE PROCESSING OF DATA"
   ]
  },
  {
   "cell_type": "code",
   "execution_count": 3,
   "id": "86759042",
   "metadata": {},
   "outputs": [
    {
     "data": {
      "text/plain": [
       "Index(['Timestamp', 'NAME', 'ID NO', 'JOB', 'CGPA', 'INTERVIEW COUNT',\n",
       "       'JOB COUNT', 'INTERNSHIP COUNT', 'Mode of Internship', 'STIPEND',\n",
       "       'Mode of Interview', 'COMMUNICATION', 'PRESENTATION', 'BRANCH',\n",
       "       'STUDY TIME', 'COMAPANY 1 NAME', 'VACANCIES COUNT',\n",
       "       'Mode of the entrance exam', 'ROUNDS COUNT',\n",
       "       'Skills required for the job', 'Related skills you have for the job',\n",
       "       'Additional skills you have', 'No of students in competition',\n",
       "       'OPEN RECRUITMENT', 'COMAPANY 2 NAME', 'No of vacancies available.1',\n",
       "       'Mode of the entrance exam.1', 'No of rounds in selection process.1',\n",
       "       'Skills required for the job.1',\n",
       "       'Related skills you have for the job.1',\n",
       "       'No of students in competition.1',\n",
       "       'Is the company meant for every branch.1', 'COMAPANY 2 NAME.1',\n",
       "       'No of vacancies available.2', 'Mode of the entrance exam.2',\n",
       "       'No of rounds in selection process.2', 'Skills required for the job.2',\n",
       "       'Related skills you have for the job.2',\n",
       "       'No of students in competition.2',\n",
       "       'Is the company meant for every branch.2', 'You got placed or not',\n",
       "       'You got placed or not.1', 'You got placed or not.2',\n",
       "       'No of rounds you reached', 'No of rounds you reached.1',\n",
       "       'No of rounds you reached.2'],\n",
       "      dtype='object')"
      ]
     },
     "execution_count": 3,
     "metadata": {},
     "output_type": "execute_result"
    }
   ],
   "source": [
    "#RENAMING THE COLUMNS\n",
    "RENAME={'Rate your communication skills (out of 10 like 8.9,2.9)':'COMMUNICATION','Rate your presentation skills (out of 10 like 8.9,2.9)':'PRESENTATION','Study time (in hours per day)':'STUDY TIME','No of Interviews you attend':'INTERVIEW COUNT','No of jobs you get':'JOB COUNT','CGPA(from E1-E3)':'CGPA','No of Internships you did':'INTERNSHIP COUNT','Stipend for internship(if no stipend enter 0,enter all separated with comma(,))':'STIPEND','Branch':'BRANCH','Did you get the job?':'JOB','Mode of Internship if you did any':'MODE OF INTERNSHIP','No of vacancies available':'VACANCIES COUNT','No of rounds in selection process':'ROUNDS COUNT','Is the company meant for every branch':'OPEN RECRUITMENT'}\n",
    "df.rename(RENAME,inplace=True,axis=1)\n",
    "df.replace('None',0,inplace = True)\n",
    "df.columns"
   ]
  },
  {
   "cell_type": "code",
   "execution_count": 4,
   "id": "449d72f1",
   "metadata": {},
   "outputs": [],
   "source": [
    "#CREATING NEW DATAFRAME WITH THE REQUIRED COUMNS\n",
    "dfs=pd.DataFrame({'ID':[],'JOB':[],'CGPA':[],'INTERNSHIP COUNT':[],'MODE OF INTERNSHIP':[],'MODE OF INTERVIEW':[],'COMMUNICATION':[],'PRESENTATION':[],'BRANCH':[],'STUDY TIME':[],'Mode of the entrance exam':[],'ROUNDS COUNT':[],'OPEN RECRUITMENT':[],'skills required':[],'related skills':[]})"
   ]
  },
  {
   "cell_type": "code",
   "execution_count": 5,
   "id": "62aa07f4",
   "metadata": {},
   "outputs": [],
   "source": [
    "#ADDING RECORDS TO THE DATAFRAME BASED ON THE DATA PROVIDED\n",
    "x=0\n",
    "for i in range(df.shape[0]):\n",
    "    if(df['You got placed or not'][i]!=0):\n",
    "        dfs.loc[x]=[df['ID NO'][i],df['You got placed or not'][i],df['CGPA'][i],df['INTERNSHIP COUNT'][i],df['Mode of Internship'][i],df['Mode of Interview'][i],df['COMMUNICATION'][i],df['PRESENTATION'][i],df['BRANCH'][i],df['STUDY TIME'][i],df['Mode of the entrance exam'][i],df['ROUNDS COUNT'][i],df['OPEN RECRUITMENT'][i],df['Skills required for the job'][i],df['Related skills you have for the job'][i]]\n",
    "        x+=1\n",
    "    if(df['You got placed or not.1'][i]!=0):\n",
    "        dfs.loc[x]=[df['ID NO'][i],df['You got placed or not.1'][i],df['CGPA'][i],df['INTERNSHIP COUNT'][i],df['Mode of Internship'][i],df['Mode of Interview'][i],df['COMMUNICATION'][i],df['PRESENTATION'][i],df['BRANCH'][i],df['STUDY TIME'][i],df['Mode of the entrance exam.1'][i],df['No of rounds in selection process.1'][i],df['Is the company meant for every branch.1'][i],df['Skills required for the job.1'][i],df['Related skills you have for the job.1'][i]]\n",
    "        x+=1\n",
    "    if(df['You got placed or not.2'][i]!=0):\n",
    "        dfs.loc[x]=[df['ID NO'][i],df['You got placed or not.2'][i],df['CGPA'][i],df['INTERNSHIP COUNT'][i],df['Mode of Internship'][i],df['Mode of Interview'][i],df['COMMUNICATION'][i],df['PRESENTATION'][i],df['BRANCH'][i],df['STUDY TIME'][i],df['Mode of the entrance exam.2'][i],df['No of rounds in selection process.2'][i],df['Is the company meant for every branch.2'][i],df['Skills required for the job.2'][i],df['Related skills you have for the job.2'][i]]\n",
    "        x+=1"
   ]
  },
  {
   "cell_type": "markdown",
   "id": "602f9d0d",
   "metadata": {},
   "source": [
    "CALCULATING SKILL PERCENTAGE"
   ]
  },
  {
   "cell_type": "code",
   "execution_count": 6,
   "id": "dfb0b550",
   "metadata": {},
   "outputs": [
    {
     "name": "stderr",
     "output_type": "stream",
     "text": [
      "C:\\Users\\SIVASRI\\AppData\\Local\\Temp\\ipykernel_10732\\760693836.py:16: SettingWithCopyWarning: \n",
      "A value is trying to be set on a copy of a slice from a DataFrame\n",
      "\n",
      "See the caveats in the documentation: https://pandas.pydata.org/pandas-docs/stable/user_guide/indexing.html#returning-a-view-versus-a-copy\n",
      "  dfs['SkillPercentage'][i]=(c/len(x))*100\n"
     ]
    }
   ],
   "source": [
    "dfs['SkillPercentage']=[0 for i in range(dfs.shape[0])]\n",
    "for i in range(dfs.shape[0]):\n",
    "    x=dfs.loc[i]['skills required']\n",
    "    if(x!=0):\n",
    "        x=x.replace('and',',')\n",
    "        x=x.replace(' ',',')\n",
    "        x=x.lower()\n",
    "        x=set(x.split(','))\n",
    "        skilset=dfs.loc[i]['related skills']\n",
    "        if(type(skilset)==type('')):\n",
    "            skilset=skilset.replace('and','')\n",
    "            skilset=skilset.replace(' ',',')\n",
    "            skilset=skilset.lower()\n",
    "            skilset=set(skilset.split(','))\n",
    "            c=len(x & skilset)\n",
    "            dfs['SkillPercentage'][i]=(c/len(x))*100          "
   ]
  },
  {
   "cell_type": "markdown",
   "id": "89ee37d8",
   "metadata": {},
   "source": [
    "REPLACING VALUES"
   ]
  },
  {
   "cell_type": "code",
   "execution_count": 7,
   "id": "ae3d5321",
   "metadata": {},
   "outputs": [],
   "source": [
    "dfs.replace('No',0,inplace=True)\n",
    "dfs.replace('No results yet',0,inplace=True)\n",
    "dfs.replace('Yes',1,inplace=True)\n",
    "dfs.replace('online',1,inplace=True)\n",
    "dfs.replace('Online',1,inplace=True)\n",
    "dfs.replace('offline',0,inplace=True)\n",
    "dfs.replace('Offline',0,inplace=True)\n",
    "dfs.replace('Both',1,inplace=True)\n",
    "dfs.replace('Not yet',0,inplace=True)\n",
    "dfs.replace('Nill',0,inplace=True)\n",
    "dfs.replace('Nothing',0,inplace=True)"
   ]
  },
  {
   "cell_type": "code",
   "execution_count": 8,
   "id": "186a0282",
   "metadata": {},
   "outputs": [
    {
     "name": "stdout",
     "output_type": "stream",
     "text": [
      "4 ²\n"
     ]
    },
    {
     "name": "stderr",
     "output_type": "stream",
     "text": [
      "C:\\Users\\SIVASRI\\AppData\\Local\\Temp\\ipykernel_10732\\719538715.py:4: SettingWithCopyWarning: \n",
      "A value is trying to be set on a copy of a slice from a DataFrame\n",
      "\n",
      "See the caveats in the documentation: https://pandas.pydata.org/pandas-docs/stable/user_guide/indexing.html#returning-a-view-versus-a-copy\n",
      "  dfs['ROUNDS COUNT'][5]=3\n",
      "C:\\Users\\SIVASRI\\AppData\\Local\\Temp\\ipykernel_10732\\719538715.py:5: SettingWithCopyWarning: \n",
      "A value is trying to be set on a copy of a slice from a DataFrame\n",
      "\n",
      "See the caveats in the documentation: https://pandas.pydata.org/pandas-docs/stable/user_guide/indexing.html#returning-a-view-versus-a-copy\n",
      "  dfs['ROUNDS COUNT'][4]=2\n",
      "C:\\Users\\SIVASRI\\AppData\\Local\\Temp\\ipykernel_10732\\719538715.py:6: SettingWithCopyWarning: \n",
      "A value is trying to be set on a copy of a slice from a DataFrame\n",
      "\n",
      "See the caveats in the documentation: https://pandas.pydata.org/pandas-docs/stable/user_guide/indexing.html#returning-a-view-versus-a-copy\n",
      "  dfs['ROUNDS COUNT'][114]=2\n"
     ]
    }
   ],
   "source": [
    "for i in range(len(dfs['CGPA'])):\n",
    "    if(type(dfs['ROUNDS COUNT'][i])==type('s')):\n",
    "        print(i,dfs['ROUNDS COUNT'][i])\n",
    "dfs['ROUNDS COUNT'][5]=3\n",
    "dfs['ROUNDS COUNT'][4]=2\n",
    "dfs['ROUNDS COUNT'][114]=2"
   ]
  },
  {
   "cell_type": "markdown",
   "id": "3f74dc01",
   "metadata": {},
   "source": [
    "CHANGING THE DATA TYPES"
   ]
  },
  {
   "cell_type": "code",
   "execution_count": 9,
   "id": "d026975f",
   "metadata": {},
   "outputs": [
    {
     "name": "stderr",
     "output_type": "stream",
     "text": [
      "C:\\Users\\SIVASRI\\AppData\\Local\\Temp\\ipykernel_10732\\2148257211.py:8: SettingWithCopyWarning: \n",
      "A value is trying to be set on a copy of a slice from a DataFrame\n",
      "\n",
      "See the caveats in the documentation: https://pandas.pydata.org/pandas-docs/stable/user_guide/indexing.html#returning-a-view-versus-a-copy\n",
      "  dfs['STUDY TIME'][i]=float(x[0])\n",
      "C:\\Users\\SIVASRI\\AppData\\Local\\Temp\\ipykernel_10732\\2148257211.py:10: SettingWithCopyWarning: \n",
      "A value is trying to be set on a copy of a slice from a DataFrame\n",
      "\n",
      "See the caveats in the documentation: https://pandas.pydata.org/pandas-docs/stable/user_guide/indexing.html#returning-a-view-versus-a-copy\n",
      "  dfs['STUDY TIME'][i]=5\n",
      "C:\\Users\\SIVASRI\\AppData\\Local\\Temp\\ipykernel_10732\\2148257211.py:4: SettingWithCopyWarning: \n",
      "A value is trying to be set on a copy of a slice from a DataFrame\n",
      "\n",
      "See the caveats in the documentation: https://pandas.pydata.org/pandas-docs/stable/user_guide/indexing.html#returning-a-view-versus-a-copy\n",
      "  dfs['CGPA'][i]=float(x[0])\n"
     ]
    }
   ],
   "source": [
    "for i in range(len(dfs['CGPA'])):\n",
    "    if(type(dfs['CGPA'][i])==type('s')):\n",
    "        x=re.findall('\\d+\\.?\\d+',dfs['CGPA'][i])\n",
    "        dfs['CGPA'][i]=float(x[0])\n",
    "    if(type(dfs['STUDY TIME'][i])==type('s')):\n",
    "        x=re.findall('\\d',dfs['STUDY TIME'][i])\n",
    "        if(x):\n",
    "            dfs['STUDY TIME'][i]=float(x[0])\n",
    "        else:\n",
    "            dfs['STUDY TIME'][i]=5\n",
    "    if(type(dfs['ROUNDS COUNT'][i])==type('s')):\n",
    "        x=re.findall('\\d',dfs['ROUNDS COUNT'][i])\n",
    "        if(x):\n",
    "            dfs['ROUNDS COUNT'][i]=float(x[0])\n",
    "dfs=dfs.astype({'CGPA':int,'STUDY TIME':int,'ROUNDS COUNT':int,'COMMUNICATION':int,'PRESENTATION':int,'SkillPercentage':int})"
   ]
  },
  {
   "cell_type": "code",
   "execution_count": 10,
   "id": "75928004",
   "metadata": {},
   "outputs": [
    {
     "data": {
      "text/plain": [
       "3     44\n",
       "4     39\n",
       "5     36\n",
       "2     24\n",
       "1     20\n",
       "6     10\n",
       "8      8\n",
       "9      3\n",
       "12     1\n",
       "Name: STUDY TIME, dtype: int64"
      ]
     },
     "execution_count": 10,
     "metadata": {},
     "output_type": "execute_result"
    }
   ],
   "source": [
    "x=int(dfs['STUDY TIME'].var())\n",
    "dfs['STUDY TIME'].replace(0,x,inplace=True)\n",
    "dfs['STUDY TIME'].value_counts()"
   ]
  },
  {
   "cell_type": "markdown",
   "id": "dacea02e",
   "metadata": {},
   "source": [
    "MODEL BUILDING"
   ]
  },
  {
   "cell_type": "code",
   "execution_count": 11,
   "id": "9ddf618c",
   "metadata": {},
   "outputs": [
    {
     "data": {
      "text/html": [
       "<div>\n",
       "<style scoped>\n",
       "    .dataframe tbody tr th:only-of-type {\n",
       "        vertical-align: middle;\n",
       "    }\n",
       "\n",
       "    .dataframe tbody tr th {\n",
       "        vertical-align: top;\n",
       "    }\n",
       "\n",
       "    .dataframe thead th {\n",
       "        text-align: right;\n",
       "    }\n",
       "</style>\n",
       "<table border=\"1\" class=\"dataframe\">\n",
       "  <thead>\n",
       "    <tr style=\"text-align: right;\">\n",
       "      <th></th>\n",
       "      <th>JOB</th>\n",
       "      <th>CGPA</th>\n",
       "      <th>INTERNSHIP COUNT</th>\n",
       "      <th>MODE OF INTERNSHIP</th>\n",
       "      <th>MODE OF INTERVIEW</th>\n",
       "      <th>COMMUNICATION</th>\n",
       "      <th>PRESENTATION</th>\n",
       "      <th>STUDY TIME</th>\n",
       "      <th>Mode of the entrance exam</th>\n",
       "      <th>ROUNDS COUNT</th>\n",
       "      <th>OPEN RECRUITMENT</th>\n",
       "      <th>SkillPercentage</th>\n",
       "    </tr>\n",
       "  </thead>\n",
       "  <tbody>\n",
       "    <tr>\n",
       "      <th>JOB</th>\n",
       "      <td>1.000000</td>\n",
       "      <td>-0.011224</td>\n",
       "      <td>0.429081</td>\n",
       "      <td>0.398435</td>\n",
       "      <td>0.342506</td>\n",
       "      <td>0.337668</td>\n",
       "      <td>0.224291</td>\n",
       "      <td>-0.046283</td>\n",
       "      <td>0.107508</td>\n",
       "      <td>-0.002145</td>\n",
       "      <td>0.037574</td>\n",
       "      <td>0.013277</td>\n",
       "    </tr>\n",
       "    <tr>\n",
       "      <th>CGPA</th>\n",
       "      <td>-0.011224</td>\n",
       "      <td>1.000000</td>\n",
       "      <td>0.011035</td>\n",
       "      <td>0.059300</td>\n",
       "      <td>0.029071</td>\n",
       "      <td>-0.066568</td>\n",
       "      <td>-0.056827</td>\n",
       "      <td>0.194200</td>\n",
       "      <td>-0.131699</td>\n",
       "      <td>-0.102143</td>\n",
       "      <td>-0.091994</td>\n",
       "      <td>-0.103854</td>\n",
       "    </tr>\n",
       "    <tr>\n",
       "      <th>INTERNSHIP COUNT</th>\n",
       "      <td>0.429081</td>\n",
       "      <td>0.011035</td>\n",
       "      <td>1.000000</td>\n",
       "      <td>0.437009</td>\n",
       "      <td>0.292202</td>\n",
       "      <td>0.251416</td>\n",
       "      <td>0.198272</td>\n",
       "      <td>-0.039515</td>\n",
       "      <td>0.114397</td>\n",
       "      <td>0.028042</td>\n",
       "      <td>-0.027693</td>\n",
       "      <td>0.089516</td>\n",
       "    </tr>\n",
       "    <tr>\n",
       "      <th>MODE OF INTERNSHIP</th>\n",
       "      <td>0.398435</td>\n",
       "      <td>0.059300</td>\n",
       "      <td>0.437009</td>\n",
       "      <td>1.000000</td>\n",
       "      <td>0.459288</td>\n",
       "      <td>0.158480</td>\n",
       "      <td>0.098597</td>\n",
       "      <td>0.026996</td>\n",
       "      <td>0.062191</td>\n",
       "      <td>-0.032983</td>\n",
       "      <td>-0.037552</td>\n",
       "      <td>-0.007933</td>\n",
       "    </tr>\n",
       "    <tr>\n",
       "      <th>MODE OF INTERVIEW</th>\n",
       "      <td>0.342506</td>\n",
       "      <td>0.029071</td>\n",
       "      <td>0.292202</td>\n",
       "      <td>0.459288</td>\n",
       "      <td>1.000000</td>\n",
       "      <td>0.161019</td>\n",
       "      <td>0.181878</td>\n",
       "      <td>-0.117678</td>\n",
       "      <td>0.026881</td>\n",
       "      <td>-0.228489</td>\n",
       "      <td>-0.087482</td>\n",
       "      <td>-0.029764</td>\n",
       "    </tr>\n",
       "    <tr>\n",
       "      <th>COMMUNICATION</th>\n",
       "      <td>0.337668</td>\n",
       "      <td>-0.066568</td>\n",
       "      <td>0.251416</td>\n",
       "      <td>0.158480</td>\n",
       "      <td>0.161019</td>\n",
       "      <td>1.000000</td>\n",
       "      <td>0.807334</td>\n",
       "      <td>-0.042556</td>\n",
       "      <td>0.196075</td>\n",
       "      <td>0.044249</td>\n",
       "      <td>0.106596</td>\n",
       "      <td>0.022176</td>\n",
       "    </tr>\n",
       "    <tr>\n",
       "      <th>PRESENTATION</th>\n",
       "      <td>0.224291</td>\n",
       "      <td>-0.056827</td>\n",
       "      <td>0.198272</td>\n",
       "      <td>0.098597</td>\n",
       "      <td>0.181878</td>\n",
       "      <td>0.807334</td>\n",
       "      <td>1.000000</td>\n",
       "      <td>0.000587</td>\n",
       "      <td>0.171585</td>\n",
       "      <td>0.010323</td>\n",
       "      <td>0.109927</td>\n",
       "      <td>0.075800</td>\n",
       "    </tr>\n",
       "    <tr>\n",
       "      <th>STUDY TIME</th>\n",
       "      <td>-0.046283</td>\n",
       "      <td>0.194200</td>\n",
       "      <td>-0.039515</td>\n",
       "      <td>0.026996</td>\n",
       "      <td>-0.117678</td>\n",
       "      <td>-0.042556</td>\n",
       "      <td>0.000587</td>\n",
       "      <td>1.000000</td>\n",
       "      <td>-0.022149</td>\n",
       "      <td>0.033168</td>\n",
       "      <td>0.027637</td>\n",
       "      <td>0.066730</td>\n",
       "    </tr>\n",
       "    <tr>\n",
       "      <th>Mode of the entrance exam</th>\n",
       "      <td>0.107508</td>\n",
       "      <td>-0.131699</td>\n",
       "      <td>0.114397</td>\n",
       "      <td>0.062191</td>\n",
       "      <td>0.026881</td>\n",
       "      <td>0.196075</td>\n",
       "      <td>0.171585</td>\n",
       "      <td>-0.022149</td>\n",
       "      <td>1.000000</td>\n",
       "      <td>0.681956</td>\n",
       "      <td>0.716641</td>\n",
       "      <td>0.451860</td>\n",
       "    </tr>\n",
       "    <tr>\n",
       "      <th>ROUNDS COUNT</th>\n",
       "      <td>-0.002145</td>\n",
       "      <td>-0.102143</td>\n",
       "      <td>0.028042</td>\n",
       "      <td>-0.032983</td>\n",
       "      <td>-0.228489</td>\n",
       "      <td>0.044249</td>\n",
       "      <td>0.010323</td>\n",
       "      <td>0.033168</td>\n",
       "      <td>0.681956</td>\n",
       "      <td>1.000000</td>\n",
       "      <td>0.524709</td>\n",
       "      <td>0.477967</td>\n",
       "    </tr>\n",
       "    <tr>\n",
       "      <th>OPEN RECRUITMENT</th>\n",
       "      <td>0.037574</td>\n",
       "      <td>-0.091994</td>\n",
       "      <td>-0.027693</td>\n",
       "      <td>-0.037552</td>\n",
       "      <td>-0.087482</td>\n",
       "      <td>0.106596</td>\n",
       "      <td>0.109927</td>\n",
       "      <td>0.027637</td>\n",
       "      <td>0.716641</td>\n",
       "      <td>0.524709</td>\n",
       "      <td>1.000000</td>\n",
       "      <td>0.305613</td>\n",
       "    </tr>\n",
       "    <tr>\n",
       "      <th>SkillPercentage</th>\n",
       "      <td>0.013277</td>\n",
       "      <td>-0.103854</td>\n",
       "      <td>0.089516</td>\n",
       "      <td>-0.007933</td>\n",
       "      <td>-0.029764</td>\n",
       "      <td>0.022176</td>\n",
       "      <td>0.075800</td>\n",
       "      <td>0.066730</td>\n",
       "      <td>0.451860</td>\n",
       "      <td>0.477967</td>\n",
       "      <td>0.305613</td>\n",
       "      <td>1.000000</td>\n",
       "    </tr>\n",
       "  </tbody>\n",
       "</table>\n",
       "</div>"
      ],
      "text/plain": [
       "                                JOB      CGPA  INTERNSHIP COUNT  \\\n",
       "JOB                        1.000000 -0.011224          0.429081   \n",
       "CGPA                      -0.011224  1.000000          0.011035   \n",
       "INTERNSHIP COUNT           0.429081  0.011035          1.000000   \n",
       "MODE OF INTERNSHIP         0.398435  0.059300          0.437009   \n",
       "MODE OF INTERVIEW          0.342506  0.029071          0.292202   \n",
       "COMMUNICATION              0.337668 -0.066568          0.251416   \n",
       "PRESENTATION               0.224291 -0.056827          0.198272   \n",
       "STUDY TIME                -0.046283  0.194200         -0.039515   \n",
       "Mode of the entrance exam  0.107508 -0.131699          0.114397   \n",
       "ROUNDS COUNT              -0.002145 -0.102143          0.028042   \n",
       "OPEN RECRUITMENT           0.037574 -0.091994         -0.027693   \n",
       "SkillPercentage            0.013277 -0.103854          0.089516   \n",
       "\n",
       "                           MODE OF INTERNSHIP  MODE OF INTERVIEW  \\\n",
       "JOB                                  0.398435           0.342506   \n",
       "CGPA                                 0.059300           0.029071   \n",
       "INTERNSHIP COUNT                     0.437009           0.292202   \n",
       "MODE OF INTERNSHIP                   1.000000           0.459288   \n",
       "MODE OF INTERVIEW                    0.459288           1.000000   \n",
       "COMMUNICATION                        0.158480           0.161019   \n",
       "PRESENTATION                         0.098597           0.181878   \n",
       "STUDY TIME                           0.026996          -0.117678   \n",
       "Mode of the entrance exam            0.062191           0.026881   \n",
       "ROUNDS COUNT                        -0.032983          -0.228489   \n",
       "OPEN RECRUITMENT                    -0.037552          -0.087482   \n",
       "SkillPercentage                     -0.007933          -0.029764   \n",
       "\n",
       "                           COMMUNICATION  PRESENTATION  STUDY TIME  \\\n",
       "JOB                             0.337668      0.224291   -0.046283   \n",
       "CGPA                           -0.066568     -0.056827    0.194200   \n",
       "INTERNSHIP COUNT                0.251416      0.198272   -0.039515   \n",
       "MODE OF INTERNSHIP              0.158480      0.098597    0.026996   \n",
       "MODE OF INTERVIEW               0.161019      0.181878   -0.117678   \n",
       "COMMUNICATION                   1.000000      0.807334   -0.042556   \n",
       "PRESENTATION                    0.807334      1.000000    0.000587   \n",
       "STUDY TIME                     -0.042556      0.000587    1.000000   \n",
       "Mode of the entrance exam       0.196075      0.171585   -0.022149   \n",
       "ROUNDS COUNT                    0.044249      0.010323    0.033168   \n",
       "OPEN RECRUITMENT                0.106596      0.109927    0.027637   \n",
       "SkillPercentage                 0.022176      0.075800    0.066730   \n",
       "\n",
       "                           Mode of the entrance exam  ROUNDS COUNT  \\\n",
       "JOB                                         0.107508     -0.002145   \n",
       "CGPA                                       -0.131699     -0.102143   \n",
       "INTERNSHIP COUNT                            0.114397      0.028042   \n",
       "MODE OF INTERNSHIP                          0.062191     -0.032983   \n",
       "MODE OF INTERVIEW                           0.026881     -0.228489   \n",
       "COMMUNICATION                               0.196075      0.044249   \n",
       "PRESENTATION                                0.171585      0.010323   \n",
       "STUDY TIME                                 -0.022149      0.033168   \n",
       "Mode of the entrance exam                   1.000000      0.681956   \n",
       "ROUNDS COUNT                                0.681956      1.000000   \n",
       "OPEN RECRUITMENT                            0.716641      0.524709   \n",
       "SkillPercentage                             0.451860      0.477967   \n",
       "\n",
       "                           OPEN RECRUITMENT  SkillPercentage  \n",
       "JOB                                0.037574         0.013277  \n",
       "CGPA                              -0.091994        -0.103854  \n",
       "INTERNSHIP COUNT                  -0.027693         0.089516  \n",
       "MODE OF INTERNSHIP                -0.037552        -0.007933  \n",
       "MODE OF INTERVIEW                 -0.087482        -0.029764  \n",
       "COMMUNICATION                      0.106596         0.022176  \n",
       "PRESENTATION                       0.109927         0.075800  \n",
       "STUDY TIME                         0.027637         0.066730  \n",
       "Mode of the entrance exam          0.716641         0.451860  \n",
       "ROUNDS COUNT                       0.524709         0.477967  \n",
       "OPEN RECRUITMENT                   1.000000         0.305613  \n",
       "SkillPercentage                    0.305613         1.000000  "
      ]
     },
     "execution_count": 11,
     "metadata": {},
     "output_type": "execute_result"
    }
   ],
   "source": [
    "dfs['SkillPercentage'].replace(0,dfs['SkillPercentage'].std(),inplace=True)\n",
    "dfs['ROUNDS COUNT'].replace(0,round(dfs['ROUNDS COUNT'].mean()),inplace=True)\n",
    "dfs.corr()"
   ]
  },
  {
   "cell_type": "markdown",
   "id": "96102880",
   "metadata": {},
   "source": [
    "VISUALIZATION"
   ]
  },
  {
   "cell_type": "code",
   "execution_count": 12,
   "id": "58df1973",
   "metadata": {},
   "outputs": [
    {
     "data": {
      "text/plain": [
       "([<matplotlib.patches.Wedge at 0x17e99808ac0>,\n",
       "  <matplotlib.patches.Wedge at 0x17e99808fa0>],\n",
       " [Text(0.2862042402424561, 1.0621144631663946, 'JOB'),\n",
       "  Text(-0.2862041408001227, -1.0621144899627646, 'JOB LESS')])"
      ]
     },
     "execution_count": 12,
     "metadata": {},
     "output_type": "execute_result"
    },
    {
     "data": {
      "image/png": "[encoded data removed]",
      "text/plain": [
       "<Figure size 432x288 with 1 Axes>"
      ]
     },
     "metadata": {},
     "output_type": "display_data"
    }
   ],
   "source": [
    "j=[i for i in dfs['JOB']]\n",
    "plt.pie([j.count(1),j.count(0)],labels=['JOB','JOB LESS'],colors=['r','g'])"
   ]
  },
  {
   "cell_type": "code",
   "execution_count": 13,
   "id": "fe26e24e",
   "metadata": {},
   "outputs": [],
   "source": [
    "#CREATING X AND Y VARIABLES\n",
    "x=dfs[['INTERNSHIP COUNT','MODE OF INTERVIEW','COMMUNICATION', 'PRESENTATION','SkillPercentage','Mode of the entrance exam','ROUNDS COUNT']]\n",
    "y=dfs['JOB']"
   ]
  },
  {
   "cell_type": "code",
   "execution_count": 14,
   "id": "50a45179",
   "metadata": {},
   "outputs": [],
   "source": [
    "from sklearn.model_selection import train_test_split\n",
    "x_tr,x_ts,y_tr,y_ts=train_test_split(x,y,test_size=0.25,random_state=3)"
   ]
  },
  {
   "cell_type": "code",
   "execution_count": 15,
   "id": "4cb4ad19",
   "metadata": {},
   "outputs": [
    {
     "data": {
      "text/plain": [
       "INTERNSHIP COUNT               int64\n",
       "MODE OF INTERVIEW              int64\n",
       "COMMUNICATION                  int32\n",
       "PRESENTATION                   int32\n",
       "SkillPercentage              float64\n",
       "Mode of the entrance exam      int64\n",
       "ROUNDS COUNT                   int32\n",
       "dtype: object"
      ]
     },
     "execution_count": 15,
     "metadata": {},
     "output_type": "execute_result"
    }
   ],
   "source": [
    "x_tr.dtypes"
   ]
  },
  {
   "cell_type": "code",
   "execution_count": 16,
   "id": "3b6ca6d3",
   "metadata": {},
   "outputs": [
    {
     "name": "stdout",
     "output_type": "stream",
     "text": [
      "[1 1 0 0 1 0 1 0 1 0 0 0 0 1 1 0 0 0 0 1 1 1 1 0 1 1 0 0 1 1 1 1 0 1 0 0 0\n",
      " 1 0 0 1 0 1 0 0 0 0]\n"
     ]
    },
    {
     "data": {
      "text/plain": [
       "0.6808510638297872"
      ]
     },
     "execution_count": 16,
     "metadata": {},
     "output_type": "execute_result"
    }
   ],
   "source": [
    "from sklearn.tree import DecisionTreeClassifier\n",
    "from sklearn.metrics import accuracy_score\n",
    "\n",
    "dtree=DecisionTreeClassifier()\n",
    "\n",
    "model=dtree.fit(x_tr,y_tr)\n",
    "\n",
    "y_pred=model.predict(x_ts)\n",
    "\n",
    "y_ts=np.array(y_ts).reshape(-1)\n",
    "\n",
    "print(y_pred)\n",
    "\n",
    "accuracy_score(y_ts,y_pred)"
   ]
  },
  {
   "cell_type": "code",
   "execution_count": 17,
   "id": "6039de94",
   "metadata": {},
   "outputs": [
    {
     "name": "stdout",
     "output_type": "stream",
     "text": [
      "[0.935      0.64602381 0.4625     0.14       0.55       0.\n",
      " 0.64602381 0.54483333 0.605      0.         0.58783333 0.\n",
      " 0.19714286 0.795      0.90086905 0.         0.54483333 0.31\n",
      " 0.01175    0.56380952 0.55       0.9685     0.89166667 0.\n",
      " 0.61583333 0.785      0.04       0.01       0.58869048 0.89166667\n",
      " 0.66516667 0.94833333 0.55633333 0.73166667 0.58783333 0.55633333\n",
      " 0.1647904  0.55       0.1647904  0.23       0.92666667 0.\n",
      " 0.98       0.03047619 0.46       0.07       0.07      ]\n"
     ]
    },
    {
     "data": {
      "text/plain": [
       "0.4353501065812855"
      ]
     },
     "execution_count": 17,
     "metadata": {},
     "output_type": "execute_result"
    }
   ],
   "source": [
    "from sklearn.ensemble import RandomForestRegressor\n",
    "regressor = RandomForestRegressor(n_estimators = 100,random_state=0)\n",
    "model=regressor.fit(x_tr,y_tr)\n",
    "y_pred=model.predict(x_ts)\n",
    "y_ts=np.array(y_ts).reshape(-1)\n",
    "print(y_pred)\n",
    "regressor.score(x_ts,y_ts)"
   ]
  },
  {
   "cell_type": "code",
   "execution_count": 18,
   "id": "8e4cc52b",
   "metadata": {},
   "outputs": [
    {
     "name": "stdout",
     "output_type": "stream",
     "text": [
      "[0.935      0.64602381 0.4625     0.14       0.55       0.\n",
      " 0.64602381 0.54483333 0.605      0.         0.58783333 0.\n",
      " 0.19714286 0.795      0.90086905 0.         0.54483333 0.31\n",
      " 0.01175    0.56380952 0.55       0.9685     0.89166667 0.\n",
      " 0.61583333 0.785      0.04       0.01       0.58869048 0.89166667\n",
      " 0.66516667 0.94833333 0.55633333 0.73166667 0.58783333 0.55633333\n",
      " 0.1647904  0.55       0.1647904  0.23       0.92666667 0.\n",
      " 0.98       0.03047619 0.46       0.07       0.07      ]\n"
     ]
    },
    {
     "data": {
      "text/plain": [
       "0.8297872340425532"
      ]
     },
     "execution_count": 18,
     "metadata": {},
     "output_type": "execute_result"
    }
   ],
   "source": [
    "from sklearn.linear_model import LogisticRegression \n",
    "clf = LogisticRegression(random_state=0, solver='lbfgs',max_iter=1000).fit(x_tr,y_tr)\n",
    "y_pred=model.predict(x_ts)\n",
    "y_ts=np.array(y_ts).reshape(-1)\n",
    "print(y_pred)\n",
    "clf.score(x_ts, y_ts)"
   ]
  },
  {
   "cell_type": "markdown",
   "id": "c26bd833",
   "metadata": {},
   "source": [
    "MEASURING ACCURACY"
   ]
  },
  {
   "cell_type": "code",
   "execution_count": 19,
   "id": "dcc94a38",
   "metadata": {},
   "outputs": [
    {
     "name": "stdout",
     "output_type": "stream",
     "text": [
      "[1 1 1 0 0 0 1 1 0 0 1 0 0 0 1 0 1 0 0 0 0 1 1 0 0 0 0 0 1 1 0 1 1 1 1 1 0\n",
      " 0 0 0 1 0 1 0 0 0 0]\n"
     ]
    },
    {
     "data": {
      "text/plain": [
       "0.7659574468085106"
      ]
     },
     "execution_count": 19,
     "metadata": {},
     "output_type": "execute_result"
    }
   ],
   "source": [
    "from sklearn.neighbors import KNeighborsClassifier\n",
    "model=KNeighborsClassifier().fit(x_tr,y_tr)\n",
    "y_pred=model.predict(x_ts)\n",
    "y_ts=np.array(y_ts).reshape(-1)\n",
    "print(y_pred)\n",
    "accuracy_score(y_ts,y_pred)"
   ]
  },
  {
   "cell_type": "code",
   "execution_count": 20,
   "id": "af2fbb27",
   "metadata": {},
   "outputs": [
    {
     "name": "stdout",
     "output_type": "stream",
     "text": [
      "[1 1 1 0 0 0 1 1 0 0 1 0 0 1 1 0 1 0 0 0 0 1 1 0 0 1 0 0 0 1 1 1 1 1 1 1 0\n",
      " 0 0 0 1 0 1 0 1 0 0]\n"
     ]
    },
    {
     "data": {
      "text/plain": [
       "0.8297872340425532"
      ]
     },
     "execution_count": 20,
     "metadata": {},
     "output_type": "execute_result"
    }
   ],
   "source": [
    "from sklearn import svm\n",
    "model=svm.SVC(kernel='linear').fit(x_tr,y_tr)\n",
    "y_pred=model.predict(x_ts)\n",
    "y_ts=np.array(y_ts).reshape(-1)\n",
    "print(y_pred)\n",
    "accuracy_score(y_ts,y_pred)"
   ]
  },
  {
   "cell_type": "markdown",
   "id": "73f25cc9",
   "metadata": {},
   "source": [
    "A beeter visualization of SVM is possible only when it deals with 2-D dimensional data .Here the data is multidimensional so regular patter for visualization might not work."
   ]
  },
  {
   "cell_type": "code",
   "execution_count": 21,
   "id": "bada60e1",
   "metadata": {},
   "outputs": [
    {
     "name": "stdout",
     "output_type": "stream",
     "text": [
      "[  4  12  19  28  30  34  35  36  37  44  46  49  54  55  60  61  62  63\n",
      "  69  70  73  74  77  80  89  90  92  97  98 107 108 113 116 117 120 123\n",
      " 126 127   0   2   3   5   7  10  16  17  20  22  29  32  39  45  48  50\n",
      "  51  52  58  59  64  66  72  76  81  96 104 105 106 109 112 122 124 132\n",
      " 137]\n"
     ]
    }
   ],
   "source": [
    "#visualizing the results of SVM with 2 columns\n",
    "# Get support vector indices\n",
    "support_vector_indices = model.support_\n",
    "print(support_vector_indices)"
   ]
  },
  {
   "cell_type": "code",
   "execution_count": 22,
   "id": "289793eb",
   "metadata": {},
   "outputs": [
    {
     "name": "stdout",
     "output_type": "stream",
     "text": [
      "[38 35]\n"
     ]
    }
   ],
   "source": [
    "# Get number of support vectors per class\n",
    "support_vectors_per_class = model.n_support_\n",
    "print(support_vectors_per_class)"
   ]
  },
  {
   "cell_type": "code",
   "execution_count": 23,
   "id": "ef49d9b9",
   "metadata": {},
   "outputs": [
    {
     "data": {
      "image/png": "[encoded data removed]",
      "text/plain": [
       "<Figure size 432x288 with 1 Axes>"
      ]
     },
     "metadata": {
      "needs_background": "light"
     },
     "output_type": "display_data"
    }
   ],
   "source": [
    "# Get support vectors themselves\n",
    "support_vectors = model.support_vectors_\n",
    "\n",
    "# Visualize support vectors\n",
    "plt.scatter(x_tr.iloc[:,2], x_tr.iloc[:,4])\n",
    "plt.scatter(support_vectors[:,0], support_vectors[:,1], color='red')\n",
    "plt.title('Linearly separable data with support vectors')\n",
    "plt.xlabel('X1')\n",
    "plt.ylabel('X2')\n",
    "plt.show()"
   ]
  },
  {
   "cell_type": "markdown",
   "id": "d0404846",
   "metadata": {},
   "source": [
    "Applying dimensionality reduction algorithms for visualization"
   ]
  },
  {
   "cell_type": "code",
   "execution_count": 24,
   "id": "ea629890",
   "metadata": {},
   "outputs": [
    {
     "data": {
      "text/html": [
       "<div>\n",
       "<style scoped>\n",
       "    .dataframe tbody tr th:only-of-type {\n",
       "        vertical-align: middle;\n",
       "    }\n",
       "\n",
       "    .dataframe tbody tr th {\n",
       "        vertical-align: top;\n",
       "    }\n",
       "\n",
       "    .dataframe thead th {\n",
       "        text-align: right;\n",
       "    }\n",
       "</style>\n",
       "<table border=\"1\" class=\"dataframe\">\n",
       "  <thead>\n",
       "    <tr style=\"text-align: right;\">\n",
       "      <th></th>\n",
       "      <th>0</th>\n",
       "      <th>1</th>\n",
       "      <th>2</th>\n",
       "      <th>3</th>\n",
       "      <th>4</th>\n",
       "      <th>5</th>\n",
       "      <th>6</th>\n",
       "    </tr>\n",
       "  </thead>\n",
       "  <tbody>\n",
       "    <tr>\n",
       "      <th>0</th>\n",
       "      <td>-13.800618</td>\n",
       "      <td>10.048173</td>\n",
       "      <td>2.762361</td>\n",
       "      <td>1.328050</td>\n",
       "      <td>0.105660</td>\n",
       "      <td>-0.680353</td>\n",
       "      <td>0.024631</td>\n",
       "    </tr>\n",
       "    <tr>\n",
       "      <th>1</th>\n",
       "      <td>-13.722784</td>\n",
       "      <td>-1.572348</td>\n",
       "      <td>-0.402723</td>\n",
       "      <td>0.332882</td>\n",
       "      <td>-0.771375</td>\n",
       "      <td>-0.459794</td>\n",
       "      <td>0.387250</td>\n",
       "    </tr>\n",
       "    <tr>\n",
       "      <th>2</th>\n",
       "      <td>-13.707214</td>\n",
       "      <td>-0.837920</td>\n",
       "      <td>-0.771831</td>\n",
       "      <td>0.939257</td>\n",
       "      <td>0.043707</td>\n",
       "      <td>-0.115050</td>\n",
       "      <td>-0.695910</td>\n",
       "    </tr>\n",
       "    <tr>\n",
       "      <th>3</th>\n",
       "      <td>-13.756583</td>\n",
       "      <td>-1.473629</td>\n",
       "      <td>0.196631</td>\n",
       "      <td>-0.702601</td>\n",
       "      <td>0.589316</td>\n",
       "      <td>0.830028</td>\n",
       "      <td>0.180993</td>\n",
       "    </tr>\n",
       "    <tr>\n",
       "      <th>4</th>\n",
       "      <td>-13.643650</td>\n",
       "      <td>-0.855415</td>\n",
       "      <td>-2.178196</td>\n",
       "      <td>2.574817</td>\n",
       "      <td>0.149426</td>\n",
       "      <td>-0.516987</td>\n",
       "      <td>-0.283590</td>\n",
       "    </tr>\n",
       "  </tbody>\n",
       "</table>\n",
       "</div>"
      ],
      "text/plain": [
       "           0          1         2         3         4         5         6\n",
       "0 -13.800618  10.048173  2.762361  1.328050  0.105660 -0.680353  0.024631\n",
       "1 -13.722784  -1.572348 -0.402723  0.332882 -0.771375 -0.459794  0.387250\n",
       "2 -13.707214  -0.837920 -0.771831  0.939257  0.043707 -0.115050 -0.695910\n",
       "3 -13.756583  -1.473629  0.196631 -0.702601  0.589316  0.830028  0.180993\n",
       "4 -13.643650  -0.855415 -2.178196  2.574817  0.149426 -0.516987 -0.283590"
      ]
     },
     "execution_count": 24,
     "metadata": {},
     "output_type": "execute_result"
    }
   ],
   "source": [
    "from sklearn.decomposition import PCA\n",
    "pca = PCA()\n",
    "x_pca = pca.fit_transform(x_tr)\n",
    "x_pca = pd.DataFrame(x_pca)\n",
    "x_pca.head()"
   ]
  },
  {
   "cell_type": "code",
   "execution_count": 25,
   "id": "5ebe2a94",
   "metadata": {},
   "outputs": [
    {
     "data": {
      "text/plain": [
       "array([9.88529049e-01, 5.87423613e-03, 2.38866871e-03, 2.15593043e-03,\n",
       "       5.90674605e-04, 3.08902298e-04, 1.52538992e-04])"
      ]
     },
     "execution_count": 25,
     "metadata": {},
     "output_type": "execute_result"
    }
   ],
   "source": [
    "explained_variance = pca.explained_variance_ratio_\n",
    "explained_variance   #sum of these array values is 0"
   ]
  },
  {
   "cell_type": "code",
   "execution_count": 26,
   "id": "9f7b0f23",
   "metadata": {},
   "outputs": [
    {
     "data": {
      "text/plain": [
       "0      1.0\n",
       "1      0.0\n",
       "2      0.0\n",
       "3      NaN\n",
       "4      NaN\n",
       "      ... \n",
       "133    0.0\n",
       "134    0.0\n",
       "135    NaN\n",
       "136    1.0\n",
       "137    0.0\n",
       "Name: target, Length: 138, dtype: float64"
      ]
     },
     "execution_count": 26,
     "metadata": {},
     "output_type": "execute_result"
    }
   ],
   "source": [
    "x_pca[\"target\"]=y_tr\n",
    "x_pca.columns = [\"PC1\",\"PC2\",\"PC3\",\"PC4\",\"PC5\",\"PC6\",\"PC7\",\"target\"]\n",
    "x_pca[\"target\"]"
   ]
  },
  {
   "cell_type": "code",
   "execution_count": 27,
   "id": "484467e5",
   "metadata": {},
   "outputs": [
    {
     "data": {
      "image/png": "[encoded data removed]",
      "text/plain": [
       "<Figure size 432x288 with 1 Axes>"
      ]
     },
     "metadata": {
      "needs_background": "light"
     },
     "output_type": "display_data"
    }
   ],
   "source": [
    "#printing output using the reduced data\n",
    "targets = [1,0]\n",
    "colors = [\"r\", \"g\"]\n",
    "for target, color in zip(targets,colors):\n",
    "    indicesToKeep = x_pca[\"target\"] == target\n",
    "    plt.scatter(x_pca.loc[indicesToKeep, \"PC1\"]\n",
    "     , x_pca.loc[indicesToKeep, \"PC2\"]\n",
    "     , c = color\n",
    "     , s = 50)"
   ]
  },
  {
   "cell_type": "code",
   "execution_count": 28,
   "id": "7c3febba",
   "metadata": {},
   "outputs": [
    {
     "data": {
      "text/plain": [
       "0.8297872340425532"
      ]
     },
     "execution_count": 28,
     "metadata": {},
     "output_type": "execute_result"
    }
   ],
   "source": [
    "accuracy_score(y_ts,y_pred)"
   ]
  },
  {
   "cell_type": "code",
   "execution_count": 29,
   "id": "51d2b3fb",
   "metadata": {},
   "outputs": [
    {
     "name": "stdout",
     "output_type": "stream",
     "text": [
      "[1 1 1 0 0 0 1 1 0 0 1 0 0 1 1 0 1 0 0 0 0 1 1 0 0 1 0 0 0 1 1 1 1 1 1 1 0\n",
      " 0 0 0 1 0 1 0 1 0 0]\n"
     ]
    },
    {
     "data": {
      "text/plain": [
       "0.8297872340425532"
      ]
     },
     "execution_count": 29,
     "metadata": {},
     "output_type": "execute_result"
    }
   ],
   "source": [
    "from sklearn.naive_bayes import GaussianNB  \n",
    "classifier = GaussianNB().fit(x_tr, y_tr) \n",
    "y_pred=model.predict(x_ts)\n",
    "print(y_pred)\n",
    "accuracy_score(y_ts,y_pred)"
   ]
  },
  {
   "cell_type": "markdown",
   "id": "b92063d2",
   "metadata": {},
   "source": [
    "PREDICTION USING MODEL"
   ]
  },
  {
   "cell_type": "code",
   "execution_count": 30,
   "id": "654cb1cd",
   "metadata": {},
   "outputs": [
    {
     "name": "stderr",
     "output_type": "stream",
     "text": [
      "C:\\Users\\SIVASRI\\anaconda3\\lib\\site-packages\\sklearn\\base.py:450: UserWarning: X does not have valid feature names, but SVC was fitted with feature names\n",
      "  warnings.warn(\n"
     ]
    },
    {
     "data": {
      "text/plain": [
       "array([1], dtype=int64)"
      ]
     },
     "execution_count": 30,
     "metadata": {},
     "output_type": "execute_result"
    }
   ],
   "source": [
    "model.predict([[1,1,9,9,70,1,1]])"
   ]
  },
  {
   "cell_type": "code",
   "execution_count": 35,
   "id": "e13a77e0",
   "metadata": {
    "scrolled": true
   },
   "outputs": [
    {
     "name": "stdout",
     "output_type": "stream",
     "text": [
      "Enter no of interships you did : 1\n",
      "Enter mode of interview(1-online & 0-offline) : 1\n",
      "Enter mode of entrance exam(1-online & 0-offline) : 1\n",
      "Rate your communication skills (out of 10 like 8.9,2.9) :9\n",
      "Rate your presentation skills (out of 10 like 8.9,2.9) : 9\n",
      "Study time (in hours per day) : 3\n",
      "Enter your skill percentage required for the job : 90\n",
      "Enter no of rounds in the recruitment process : 2\n",
      "[1]\n"
     ]
    },
    {
     "name": "stderr",
     "output_type": "stream",
     "text": [
      "C:\\Users\\SIVASRI\\anaconda3\\lib\\site-packages\\sklearn\\base.py:450: UserWarning: X does not have valid feature names, but SVC was fitted with feature names\n",
      "  warnings.warn(\n"
     ]
    }
   ],
   "source": [
    "ic=int(input('Enter no of interships you did : '))\n",
    "if(ic>=0):\n",
    "    mi=int(input('Enter mode of interview(1-online & 0-offline) : '))\n",
    "    me=int(input('Enter mode of entrance exam(1-online & 0-offline) : '))\n",
    "    if((mi==1 or mi==0) and (me==0 or me==1)):\n",
    "        c=int(input('Rate your communication skills (out of 10 like 8.9,2.9) :'))\n",
    "        p=int(input('Rate your presentation skills (out of 10 like 8.9,2.9) : '))\n",
    "        if((c>0 and c<=10) and (p>0 and p<=10)):\n",
    "            st=int(input('Study time (in hours per day) : '))\n",
    "            if(st>0 and st<=24):\n",
    "                sp=int(input('Enter your skill percentage required for the job : '))\n",
    "                if(sp>0 and sp<=100):\n",
    "                    rc=int(input(\"Enter no of rounds in the recruitment process : \"))\n",
    "                    print(model.predict([[ic,mi,c,p,sp,me,rc]]))\n",
    "                    \n",
    "else:\n",
    "    print(\"INVALID DATA\")"
   ]
  },
  {
   "cell_type": "code",
   "execution_count": 32,
   "id": "680d49e8",
   "metadata": {},
   "outputs": [],
   "source": [
    "acc_classifiers = [0.8297872340425532,0.7659574468085106,0.8297872340425532,0.6808510638297872,0.4353501065812855,0.8297872340425532]"
   ]
  },
  {
   "cell_type": "code",
   "execution_count": 33,
   "id": "c190520f",
   "metadata": {},
   "outputs": [
    {
     "data": {
      "text/plain": [
       "<matplotlib.collections.PathCollection at 0x17e94c79b80>"
      ]
     },
     "execution_count": 33,
     "metadata": {},
     "output_type": "execute_result"
    },
    {
     "data": {
      "image/png": "[encoded data removed]",
      "text/plain": [
       "<Figure size 432x288 with 1 Axes>"
      ]
     },
     "metadata": {
      "needs_background": "light"
     },
     "output_type": "display_data"
    }
   ],
   "source": [
    "plt.scatter([1,2,3,4,5,6],acc_classifiers,c=[\"r\",\"g\",\"b\",\"y\",\"g\",\"r\"])"
   ]
  },
  {
   "cell_type": "code",
   "execution_count": null,
   "id": "9e381c6b",
   "metadata": {},
   "outputs": [],
   "source": []
  }
 ],
 "metadata": {
  "kernelspec": {
   "display_name": "Python 3 (ipykernel)",
   "language": "python",
   "name": "python3"
  },
  "language_info": {
   "codemirror_mode": {
    "name": "ipython",
    "version": 3
   },
   "file_extension": ".py",
   "mimetype": "text/x-python",
   "name": "python",
   "nbconvert_exporter": "python",
   "pygments_lexer": "ipython3",
   "version": "3.9.12"
  }
 },
 "nbformat": 4,
 "nbformat_minor": 5
}
